{
 "cells": [
  {
   "cell_type": "code",
   "execution_count": null,
   "metadata": {},
   "outputs": [],
   "source": [
    "# rdc_count1 、履修履歴データを数えてみる"
   ]
  },
  {
   "cell_type": "code",
   "execution_count": null,
   "metadata": {},
   "outputs": [],
   "source": [
    "#履修履歴データ全体を読み込み\n",
    "import pandas as pd\n",
    "rdcdata = pd.read_csv('RDC/RDCdata2020_utf8.csv', encoding='utf_8', dtype={\"univ_cd\":str, \"dep_cd\":str})"
   ]
  },
  {
   "cell_type": "code",
   "execution_count": null,
   "metadata": {},
   "outputs": [],
   "source": [
    "# 学生数をカウントする\n",
    "# IDリストを作る\n",
    "\n",
    "# 単純にユニーク数をカウント\n",
    "rdcdata_uid=rdcdata.drop_duplicates(subset='loginnum')\n",
    "\n",
    "# 大学名が異なる場合は別カウントした\n",
    "rdcdata_uid2=rdcdata.drop_duplicates(subset=['loginnum','univ_name'])\n",
    "\n",
    "# 大学・学部名が異なる場合は別カウントした\n",
    "rdcdata_uid3=rdcdata.drop_duplicates(subset=['loginnum','univ_name','dep_name'])\n",
    "\n",
    "# 大学・学部・学科名が異なる場合は別カウントした\n",
    "rdcdata_uid4=rdcdata.drop_duplicates(subset=['loginnum','univ_name','dep_name','sub_name'])\n",
    "\n",
    "\n",
    "# --\n",
    "#結果の確認\n",
    "# --\n",
    "\n",
    "#冒頭と末尾を表示（各5行）\n",
    "print(rdcdata_uid)\n",
    "#行数をカウント\n",
    "print(rdcdata_uid.count())\n",
    "print(rdcdata_uid2.count())\n",
    "print(rdcdata_uid3.count())\n",
    "print(rdcdata_uid4.count())\n",
    "\n",
    "# --\n",
    "#メモ\n",
    "# --\n",
    "# ユニーク ID 数、 126,413\n",
    "# 大学移動を別カウントすると、134,092\n",
    "# 大学、学部名移動を別カウントすると、156,715\n",
    "# 大学、学部、学科移動を別カウントすると、157,215\n",
    "\n",
    "\n",
    "# --\n",
    "#結果をセーブ\n",
    "# --\n",
    "rdcdata_uid.to_csv('RDC/rdcdata_uid_2020.csv', header=True, index=False)\n",
    "rdcdata_uid2.to_csv('RDC/rdcdata_uid_2020_uid2.csv', header=True, index=False)\n",
    "rdcdata_uid3.to_csv('RDC/rdcdata_uid_2020_uid3.csv', header=True, index=False)\n",
    "rdcdata_uid4.to_csv('RDC/rdcdata_uid_2020_uid4.csv', header=True, index=False)"
   ]
  },
  {
   "cell_type": "code",
   "execution_count": null,
   "metadata": {},
   "outputs": [],
   "source": [
    "# 大学名数をカウントする\n",
    "rdcdata_uuniv=rdcdata.drop_duplicates(subset='univ_name')\n",
    "\n",
    "# --\n",
    "#結果の確認\n",
    "# --\n",
    "#行数をカウント\n",
    "print(rdcdata_uuniv.count())\n",
    "\n",
    "# --\n",
    "#メモ\n",
    "# --\n",
    "#3218、約3000、日本の大学（約800）以外が大量に含まれている\n",
    "\n",
    "# --\n",
    "#結果をセーブ\n",
    "# --\n",
    "rdcdata_uuniv.to_csv('RDC/rdcdata_2020_uuniv.csv', columns=['univ_cd','univ_name'], header=True, index=False)\n"
   ]
  },
  {
   "cell_type": "code",
   "execution_count": null,
   "metadata": {},
   "outputs": [],
   "source": [
    "# 学部名数をカウントする\n",
    "# 大学名を考慮せずに重複を除去\n",
    "rdcdata_udep=rdcdata.drop_duplicates(subset='dep_name')\n",
    "\n",
    "# --\n",
    "#結果の確認\n",
    "# --\n",
    "#行数をカウント\n",
    "print(rdcdata_udep.count())\n",
    "\n",
    "# --\n",
    "#メモ\n",
    "# --\n",
    "#2613\n",
    "\n",
    "# --\n",
    "#結果をセーブ\n",
    "# --\n",
    "rdcdata_udep.to_csv('RDC/rdcdata_2020_udep.csv', columns=['dep_cd','dep_name'], header=True, index=False)"
   ]
  },
  {
   "cell_type": "code",
   "execution_count": null,
   "metadata": {
    "scrolled": true
   },
   "outputs": [],
   "source": [
    "# 学科名数をカウントする\n",
    "# 大学名・学部名を考慮せずに重複を除去\n",
    "rdcdata_usub=rdcdata.drop_duplicates(subset='sub_name')\n",
    "\n",
    "# --\n",
    "#結果の確認\n",
    "# --\n",
    "#行数をカウント\n",
    "print(rdcdata_usub.count())\n",
    "\n",
    "# --\n",
    "#メモ\n",
    "# --\n",
    "#5781\n",
    "\n",
    "# --\n",
    "#結果をセーブ\n",
    "# --\n",
    "rdcdata_usub.to_csv('RDC/rdcdata_2020_usub.csv', columns=['sub_cd','sub_name'], header=True, index=False)\n"
   ]
  },
  {
   "cell_type": "code",
   "execution_count": null,
   "metadata": {},
   "outputs": [],
   "source": [
    "# 履修履歴データ全体からローカル講義名数をカウントする\n",
    "# 大学名・学部名を考慮せずに重複を除去\n",
    "rdcdata_uLCN=rdcdata.drop_duplicates(subset='local_course_name')\n",
    "# 大学名・学部名・講義名が一致するものを重複とみてこれを除去\n",
    "rdcdata_uLCN2=rdcdata.drop_duplicates(subset=['univ_name','dep_name','local_course_name'])\n",
    "\n",
    "# --\n",
    "#結果の確認\n",
    "# --\n",
    "#行数をカウント\n",
    "print(rdcdata_uLCN.count())\n",
    "print(rdcdata_uLCN2.count())\n",
    "\n",
    "# --\n",
    "#メモ\n",
    "# --\n",
    "#649927、約65万科目名\n",
    "#1234782、約123万科目名\n",
    "\n",
    "# --\n",
    "#結果をセーブ\n",
    "# --\n",
    "rdcdata_uLCN.to_csv('RDC/rdcdata_2020_uLCN.csv', columns=['local_course_name'], header=True, index=False)\n",
    "rdcdata_uLCN2.to_csv('RDC/rdcdata_2020_uLCN2.csv', columns=['local_course_name'], header=True, index=False)"
   ]
  },
  {
   "cell_type": "code",
   "execution_count": null,
   "metadata": {},
   "outputs": [],
   "source": []
  }
 ],
 "metadata": {
  "kernelspec": {
   "display_name": "Python 3",
   "language": "python",
   "name": "python3"
  },
  "language_info": {
   "codemirror_mode": {
    "name": "ipython",
    "version": 3
   },
   "file_extension": ".py",
   "mimetype": "text/x-python",
   "name": "python",
   "nbconvert_exporter": "python",
   "pygments_lexer": "ipython3",
   "version": "3.8.3"
  }
 },
 "nbformat": 4,
 "nbformat_minor": 4
}
