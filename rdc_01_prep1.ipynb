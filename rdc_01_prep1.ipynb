{
 "cells": [
  {
   "cell_type": "code",
   "execution_count": null,
   "metadata": {},
   "outputs": [],
   "source": [
    "# rdc_prep1 、履修履歴データの下準備、第一段階"
   ]
  },
  {
   "cell_type": "code",
   "execution_count": null,
   "metadata": {},
   "outputs": [],
   "source": [
    "# 履修履歴データを準備する\n",
    "\n",
    "#1. 履修履歴データの入手\n",
    "#履修履歴データの入手（利用）を希望する場合は、株式会社大学成績センターに利用申請を行う。\n",
    "#提供条件等の詳細は右のサイトで確認できる http://dscenter.co.jp/data/\n",
    "#履修履歴データは就活年度別にまとめられている\n",
    "#2019就活生データとは、2019年3月卒業、4月新入社する学生の残したデータを指す\n",
    "\n",
    "#2. 履修履歴データの構成\n",
    "#履修履歴データは、履修履歴マスデータ（全体データ）と該当講義名リストから構成される\n",
    "#履修履歴マスデータ（全体データ）とは、学生ID番号、履修科目名、成績等の csv データで、１履修科目１行でまとめられている。\n",
    "#履修履歴マスデータは、15万人分700万行など比較的ファイルサイズの大きい csv で提供される。\n",
    "#該当講義名リストとは、RDCが定める「標準科目名」（2020年度現在120科目）と大学が自機関内で定めるところの開設科目名との対照リストである。\n",
    "#該当講義名リストは、MS Excel ファイルで提供される。\n",
    "\n",
    "\n",
    "#3.リネーム\n",
    "#履修履歴データは日本語ファイル名で支給される。\n",
    "#以下の処理においては次のようにリネームした\n",
    "#2019就活生データ：「履修履歴マスデータ（全体データ）2019.csv」→ RDCdata2019_sjis_org.csv、※文字コードが sjis\n",
    "#2020就活生データ：「履修履歴マスデータ（全体データ）2020.csv」→ RDCdata2020_utf8_org.csv、※文字コード utf8\n",
    "#講義名リスト2019年版v1.2.xlsx → RDCsubjectlist_2019_12_org.xlsx'\n",
    "#講義名リスト2020年版v1.1.xlsx → RDCsubjectlist_2020_11_org.xlsx'\n",
    "\n",
    "\n",
    "#4.ファイルの配置\n",
    "#次のように元データのファイルを整理格納して以下の処理を行う\n",
    "#\n",
    "#作業フォルダ（ルート）\n",
    "#┗ RDCフォルダ：計算に使うデータを格納\n",
    "#  ┗ orgフォルダ：支給された履修履歴データを格納（上記 #3 のリネーム済み）\n",
    "\n",
    "\n",
    "#5.文字コードの変換（2019就活生データのみ必要）\n",
    "import codecs\n",
    "#sf = codecs.open('RDC/RDCdata2019_sjis_org.csv', 'r', encoding='shift_jis')\n",
    "#shift_jis で読み込むと0xfa エラーが出るので cp932 で読み込む\n",
    "sf = codecs.open('RDC/org/RDCdata2019_sjis_org.csv', 'r', encoding='cp932')\n",
    "uf = codecs.open('RDC/org/RDCdata2019_utf8_org.csv', 'w', encoding='utf_8')\n",
    "for line in sf:\n",
    "    uf.write(line)\n",
    "sf.close()\n",
    "uf.close()"
   ]
  },
  {
   "cell_type": "code",
   "execution_count": null,
   "metadata": {},
   "outputs": [],
   "source": [
    "# 履修履歴データを見てみる\n",
    "\n",
    "#履修履歴データ全体を読み込み\n",
    "import pandas as pd\n",
    "rdcdata_org = pd.read_csv('RDC/org/RDCdata2020_utf8_org.csv', encoding='utf_8', dtype={\"univ_cd\":str, \"dep_cd\":str})\n",
    "\n",
    "# --\n",
    "#結果の確認\n",
    "# --\n",
    "#冒頭と末尾を表示（各5行）\n",
    "print(rdcdata_org)\n",
    "#列名を表示\n",
    "print(rdcdata_org.columns)\n",
    "#行数をカウント\n",
    "rdcdata_org.count()\n",
    "# --\n",
    "#メモ\n",
    "# --\n",
    "#RDCdata2019_utf8.csv の loginnum は、8,277,757\n",
    "#RDCdata2020_utf8.csv の loginnum は、8,588,983"
   ]
  },
  {
   "cell_type": "code",
   "execution_count": null,
   "metadata": {},
   "outputs": [],
   "source": [
    "# 履修履歴データの列名を変更する\n",
    "#10列目の replace は、履修科目名が入るので、local_course_name とする\n",
    "rdcdata = rdcdata_org.rename(columns={'replace':'local_course_name'})\n",
    "rdcdata.to_csv('RDC/RDCdata2020_utf8.csv', header=True, index=False)\n",
    "\n",
    "# --\n",
    "#結果の確認\n",
    "# --\n",
    "#冒頭と末尾を表示（各5行）\n",
    "print(rdcdata)\n",
    "#列名を表示\n",
    "print(rdcdata.columns)\n",
    "#行数をカウント\n",
    "print(rdcdata.count())"
   ]
  },
  {
   "cell_type": "code",
   "execution_count": null,
   "metadata": {},
   "outputs": [],
   "source": [
    "# 該当講義名リストの列名を変更する\n",
    "# 科目名リストと履修データの列名を揃える\n",
    "\n",
    "import pandas as pd\n",
    "excel_file = 'RDC/org/RDCsubjectlist_2020_11_org.xlsx'\n",
    "sheet_name = '該当講義名リスト2020'\n",
    "df = pd.read_excel(excel_file,sheet_name)\n",
    "df_new = df.rename(columns={\n",
    "    '系統':'course_type_name',\n",
    "    'ＮＯ':'global_course_cd',\n",
    "    '基準科目名':'global_course_name',\n",
    "    '大学名':'univ_name',\n",
    "    '学部名':'dep_name',\n",
    "    '学科名':'sub_name',\n",
    "    '講義名':'local_course_name'\n",
    "})\n",
    "excel_file = 'RDC/RDCsubjectlist_2020_11.xlsx'\n",
    "sheet_name = 'RDCsubjectlist2020'\n",
    "df_new.to_excel(excel_file, sheet_name, index=False, header=True)"
   ]
  }
 ],
 "metadata": {
  "kernelspec": {
   "display_name": "Python 3",
   "language": "python",
   "name": "python3"
  },
  "language_info": {
   "codemirror_mode": {
    "name": "ipython",
    "version": 3
   },
   "file_extension": ".py",
   "mimetype": "text/x-python",
   "name": "python",
   "nbconvert_exporter": "python",
   "pygments_lexer": "ipython3",
   "version": "3.8.3"
  }
 },
 "nbformat": 4,
 "nbformat_minor": 4
}
